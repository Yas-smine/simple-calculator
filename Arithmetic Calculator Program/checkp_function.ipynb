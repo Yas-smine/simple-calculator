{
 "cells": [
  {
   "cell_type": "markdown",
   "id": "5c253309",
   "metadata": {},
   "source": [
    "Description\n",
    "\n",
    "This exercise involves creating a simple calculator app using Python. The app should be able to perform addition, subtraction, multiplication, and division operations. It will prompt the user to input two numbers and an arithmetic operator, then perform the corresponding operation on the numbers and return the result.\n",
    "\n",
    "Example :\n",
    "\n",
    "Input:\n",
    "\n",
    "Enter the first number: 10\n",
    "\n",
    "Enter the second number: 5\n",
    "\n",
    "Enter the operator (+, -, *, /): *\n",
    "\n",
    "Output:\n",
    "\n",
    "The result is: 50\n",
    "\n",
    "Instructions\n",
    " \n",
    "\n",
    "- Open a new Python file in your preferred code editor.\n",
    "- Define a function called \"calculator\" that takes two arguments, \"num1\" and \"num2\".\n",
    "- Within the function, prompt the user to enter an operator (+, -, *, /).\n",
    "- Use conditional statements to determine which operation to perform based on the user's input.\n",
    "- Return the result of the operation.\n",
    "- Call the function calculator with two numbers and print the result.\n",
    "- Handle cases where the user inputs invalid operators or tries to divide by zero.\n",
    "\n",
    "Note: \n",
    "\n",
    "You may want to use a \"while\" loop to allow the user to roll the dice multiple times, or to add some messages to make the program more user-friendly."
   ]
  },
  {
   "cell_type": "code",
   "execution_count": null,
   "id": "c855e0bb",
   "metadata": {},
   "outputs": [
    {
     "name": "stdout",
     "output_type": "stream",
     "text": [
      "addition: 8\n"
     ]
    }
   ],
   "source": [
    "# Define the calculator function that performs arithmetic operations\n",
    "def calculator(num1,num2,operator):\n",
    "    if operator == \"+\":\n",
    "        return num1 + num2\n",
    "    elif operator == \"-\":\n",
    "        return num1 - num2\n",
    "    elif operator == \"*\":\n",
    "        return num1 * num2\n",
    "    elif operator == \"/\":\n",
    "        if num2 == 0:\n",
    "            return \"Error: Division by zero!\"\n",
    "        return num1 / num2\n",
    "# Get first number from user       \n",
    "num1 = float(input(\"Enter the first number:\"))\n",
    "# Get second number from user\n",
    "num2 = float(input(\"Enter the second number:\"))\n",
    "\n",
    "# Prompt user for an operator\n",
    "operator = input(\"Enter an arithmetic operator(+,-,*,/):\")\n",
    "\n",
    "# Validate operator input\n",
    "while operator not in [\"+\",\"-\",\"*\",\"/\"]:\n",
    "    operator = input(\"Enter an valid arithmetic operator(+,-,*,/):\")\n",
    "\n",
    "# Calculate and display result\n",
    "result = calculator(num1, num2, operator)\n",
    "print(\"Result:\", result)    \n",
    "\n",
    "\n",
    "\n"
   ]
  }
 ],
 "metadata": {
  "kernelspec": {
   "display_name": "Python 3",
   "language": "python",
   "name": "python3"
  },
  "language_info": {
   "codemirror_mode": {
    "name": "ipython",
    "version": 3
   },
   "file_extension": ".py",
   "mimetype": "text/x-python",
   "name": "python",
   "nbconvert_exporter": "python",
   "pygments_lexer": "ipython3",
   "version": "3.11.9"
  }
 },
 "nbformat": 4,
 "nbformat_minor": 5
}
